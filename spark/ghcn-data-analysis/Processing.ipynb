{
 "cells": [
  {
   "cell_type": "markdown",
   "id": "30bbb004-5a22-4f65-b400-cb2bc3edf217",
   "metadata": {},
   "source": [
    "### Spark notebook ###\n",
    "\n",
    "This notebook will only work in a Jupyter notebook or Jupyter lab session running on the cluster master node in the cloud.\n",
    "\n",
    "Follow the instructions on the computing resources page to start a cluster and open this notebook.\n",
    "\n",
    "**Steps**\n",
    "\n",
    "1. Connect to the Windows server using Windows App.\n",
    "2. Connect to Kubernetes.\n",
    "3. Start Jupyter and open this notebook from Jupyter in order to connect to Spark."
   ]
  },
  {
   "cell_type": "code",
   "execution_count": 1,
   "id": "017705b0-281d-4565-abe1-852ebc5ca888",
   "metadata": {
    "jupyter": {
     "source_hidden": true
    }
   },
   "outputs": [
    {
     "data": {
      "text/html": [
       "<style>pre { white-space: pre !important; }table.dataframe td { white-space: nowrap !important; }table.dataframe thead th:first-child, table.dataframe tbody th { display: none; }</style>"
      ],
      "text/plain": [
       "<IPython.core.display.HTML object>"
      ]
     },
     "metadata": {},
     "output_type": "display_data"
    }
   ],
   "source": [
    "# Run this cell to import pyspark and to define start_spark() and stop_spark()\n",
    "\n",
    "import findspark\n",
    "\n",
    "findspark.init()\n",
    "\n",
    "import getpass\n",
    "import pandas\n",
    "import pyspark\n",
    "import random\n",
    "import re\n",
    "\n",
    "from IPython.display import display, HTML\n",
    "from pyspark import SparkContext\n",
    "from pyspark.sql import SparkSession\n",
    "\n",
    "\n",
    "# Constants used to interact with Azure Blob Storage using the hdfs command or Spark\n",
    "\n",
    "global username\n",
    "\n",
    "username = re.sub('@.*', '', getpass.getuser())\n",
    "\n",
    "global azure_account_name\n",
    "global azure_data_container_name\n",
    "global azure_user_container_name\n",
    "global azure_user_token\n",
    "\n",
    "azure_account_name = \"madsstorage002\"\n",
    "azure_data_container_name = \"campus-data\"\n",
    "azure_user_container_name = \"campus-user\"\n",
    "azure_user_token = r\"sp=racwdl&st=2024-09-19T08:03:31Z&se=2025-09-19T16:03:31Z&spr=https&sv=2022-11-02&sr=c&sig=kMP%2BsBsRzdVVR8rrg%2BNbDhkRBNs6Q98kYY695XMRFDU%3D\"\n",
    "\n",
    "\n",
    "# Functions used below\n",
    "\n",
    "def dict_to_html(d):\n",
    "    \"\"\"Convert a Python dictionary into a two column table for display.\n",
    "    \"\"\"\n",
    "\n",
    "    html = []\n",
    "\n",
    "    html.append(f'<table width=\"100%\" style=\"width:100%; font-family: monospace;\">')\n",
    "    for k, v in d.items():\n",
    "        html.append(f'<tr><td style=\"text-align:left;\">{k}</td><td>{v}</td></tr>')\n",
    "    html.append(f'</table>')\n",
    "\n",
    "    return ''.join(html)\n",
    "\n",
    "\n",
    "def show_as_html(df, n=20):\n",
    "    \"\"\"Leverage existing pandas jupyter integration to show a spark dataframe as html.\n",
    "    \n",
    "    Args:\n",
    "        n (int): number of rows to show (default: 20)\n",
    "    \"\"\"\n",
    "\n",
    "    display(df.limit(n).toPandas())\n",
    "\n",
    "    \n",
    "def display_spark():\n",
    "    \"\"\"Display the status of the active Spark session if one is currently running.\n",
    "    \"\"\"\n",
    "    \n",
    "    if 'spark' in globals() and 'sc' in globals():\n",
    "\n",
    "        name = sc.getConf().get(\"spark.app.name\")\n",
    "\n",
    "        html = [\n",
    "            f'<p><b>Spark</b></p>',\n",
    "            f'<p>The spark session is <b><span style=\"color:green\">active</span></b>, look for <code>{name}</code> under the running applications section in the Spark UI.</p>',\n",
    "            f'<ul>',\n",
    "            f'<li><a href=\"http://localhost:{sc.uiWebUrl.split(\":\")[-1]}\" target=\"_blank\">Spark Application UI</a></li>',\n",
    "            f'</ul>',\n",
    "            f'<p><b>Config</b></p>',\n",
    "            dict_to_html(dict(sc.getConf().getAll())),\n",
    "            f'<p><b>Notes</b></p>',\n",
    "            f'<ul>',\n",
    "            f'<li>The spark session <code>spark</code> and spark context <code>sc</code> global variables have been defined by <code>start_spark()</code>.</li>',\n",
    "            f'<li>Please run <code>stop_spark()</code> before closing the notebook or restarting the kernel or kill <code>{name}</code> by hand using the link in the Spark UI.</li>',\n",
    "            f'</ul>',\n",
    "        ]\n",
    "        display(HTML(''.join(html)))\n",
    "        \n",
    "    else:\n",
    "        \n",
    "        html = [\n",
    "            f'<p><b>Spark</b></p>',\n",
    "            f'<p>The spark session is <b><span style=\"color:red\">stopped</span></b>, confirm that <code>{username} (notebook)</code> is under the completed applications section in the Spark UI.</p>',\n",
    "            f'<ul>',\n",
    "            f'<li><a href=\"http://mathmadslinux2p.canterbury.ac.nz:8080/\" target=\"_blank\">Spark UI</a></li>',\n",
    "            f'</ul>',\n",
    "        ]\n",
    "        display(HTML(''.join(html)))\n",
    "\n",
    "\n",
    "# Functions to start and stop spark\n",
    "\n",
    "def start_spark(executor_instances=2, executor_cores=1, worker_memory=1, master_memory=1):\n",
    "    \"\"\"Start a new Spark session and define globals for SparkSession (spark) and SparkContext (sc).\n",
    "    \n",
    "    Args:\n",
    "        executor_instances (int): number of executors (default: 2)\n",
    "        executor_cores (int): number of cores per executor (default: 1)\n",
    "        worker_memory (float): worker memory (default: 1)\n",
    "        master_memory (float): master memory (default: 1)\n",
    "    \"\"\"\n",
    "\n",
    "    global spark\n",
    "    global sc\n",
    "\n",
    "    cores = executor_instances * executor_cores\n",
    "    partitions = cores * 4\n",
    "    port = 4000 + random.randint(1, 999)\n",
    "\n",
    "    spark = (\n",
    "        SparkSession.builder\n",
    "        .config(\"spark.driver.extraJavaOptions\", f\"-Dderby.system.home=/tmp/{username}/spark/\")\n",
    "        .config(\"spark.dynamicAllocation.enabled\", \"false\")\n",
    "        .config(\"spark.executor.instances\", str(executor_instances))\n",
    "        .config(\"spark.executor.cores\", str(executor_cores))\n",
    "        .config(\"spark.cores.max\", str(cores))\n",
    "        .config(\"spark.driver.memory\", f'{master_memory}g')\n",
    "        .config(\"spark.executor.memory\", f'{worker_memory}g')\n",
    "        .config(\"spark.driver.maxResultSize\", \"0\")\n",
    "        .config(\"spark.sql.shuffle.partitions\", str(partitions))\n",
    "        .config(\"spark.kubernetes.container.image\", \"madsregistry001.azurecr.io/hadoop-spark:v3.3.5-openjdk-8\")\n",
    "        .config(\"spark.kubernetes.container.image.pullPolicy\", \"IfNotPresent\")\n",
    "        .config(\"spark.kubernetes.memoryOverheadFactor\", \"0.3\")\n",
    "        .config(\"spark.memory.fraction\", \"0.1\")\n",
    "        .config(f\"fs.azure.sas.{azure_user_container_name}.{azure_account_name}.blob.core.windows.net\",  azure_user_token)\n",
    "        .config(\"spark.app.name\", f\"{username} (notebook)\")\n",
    "        .getOrCreate()\n",
    "    )\n",
    "    sc = SparkContext.getOrCreate()\n",
    "    \n",
    "    display_spark()\n",
    "\n",
    "    \n",
    "def stop_spark():\n",
    "    \"\"\"Stop the active Spark session and delete globals for SparkSession (spark) and SparkContext (sc).\n",
    "    \"\"\"\n",
    "\n",
    "    global spark\n",
    "    global sc\n",
    "\n",
    "    if 'spark' in globals() and 'sc' in globals():\n",
    "\n",
    "        spark.stop()\n",
    "\n",
    "        del spark\n",
    "        del sc\n",
    "\n",
    "    display_spark()\n",
    "\n",
    "\n",
    "# Make css changes to improve spark output readability\n",
    "\n",
    "html = [\n",
    "    '<style>',\n",
    "    'pre { white-space: pre !important; }',\n",
    "    'table.dataframe td { white-space: nowrap !important; }',\n",
    "    'table.dataframe thead th:first-child, table.dataframe tbody th { display: none; }',\n",
    "    '</style>',\n",
    "]\n",
    "display(HTML(''.join(html)))"
   ]
  },
  {
   "cell_type": "code",
   "execution_count": 2,
   "id": "f06343f5-a638-4f7f-ade5-5f564a068bc0",
   "metadata": {
    "jupyter": {
     "source_hidden": true
    },
    "scrolled": true
   },
   "outputs": [
    {
     "name": "stderr",
     "output_type": "stream",
     "text": [
      "Warning: Ignoring non-Spark config property: fs.azure.sas.campus-user.madsstorage002.blob.core.windows.net\n",
      "Warning: Ignoring non-Spark config property: SPARK_DRIVER_BIND_ADDRESS\n",
      "25/04/05 08:09:27 WARN NativeCodeLoader: Unable to load native-hadoop library for your platform... using builtin-java classes where applicable\n",
      "Setting default log level to \"WARN\".\n",
      "To adjust logging level use sc.setLogLevel(newLevel). For SparkR, use setLogLevel(newLevel).\n"
     ]
    },
    {
     "data": {
      "text/html": [
       "<p><b>Spark</b></p><p>The spark session is <b><span style=\"color:green\">active</span></b>, look for <code>twa78 (notebook)</code> under the running applications section in the Spark UI.</p><ul><li><a href=\"http://localhost:4043\" target=\"_blank\">Spark Application UI</a></li></ul><p><b>Config</b></p><table width=\"100%\" style=\"width:100%; font-family: monospace;\"><tr><td style=\"text-align:left;\">spark.dynamicAllocation.enabled</td><td>false</td></tr><tr><td style=\"text-align:left;\">spark.fs.azure.sas.uco-user.madsstorage002.blob.core.windows.net</td><td>\"sp=racwdl&st=2024-09-19T08:00:18Z&se=2025-09-19T16:00:18Z&spr=https&sv=2022-11-02&sr=c&sig=qtg6fCdoFz6k3EJLw7dA8D3D8wN0neAYw8yG4z4Lw2o%3D\"</td></tr><tr><td style=\"text-align:left;\">spark.kubernetes.driver.pod.name</td><td>spark-master-driver</td></tr><tr><td style=\"text-align:left;\">spark.fs.azure.sas.campus-user.madsstorage002.blob.core.windows.net</td><td>\"sp=racwdl&st=2024-09-19T08:03:31Z&se=2025-09-19T16:03:31Z&spr=https&sv=2022-11-02&sr=c&sig=kMP%2BsBsRzdVVR8rrg%2BNbDhkRBNs6Q98kYY695XMRFDU%3D\"</td></tr><tr><td style=\"text-align:left;\">spark.kubernetes.container.image.pullPolicy</td><td>IfNotPresent</td></tr><tr><td style=\"text-align:left;\">spark.driver.memory</td><td>1g</td></tr><tr><td style=\"text-align:left;\">spark.driver.extraJavaOptions</td><td>-Djava.net.preferIPv6Addresses=false -XX:+IgnoreUnrecognizedVMOptions --add-opens=java.base/java.lang=ALL-UNNAMED --add-opens=java.base/java.lang.invoke=ALL-UNNAMED --add-opens=java.base/java.lang.reflect=ALL-UNNAMED --add-opens=java.base/java.io=ALL-UNNAMED --add-opens=java.base/java.net=ALL-UNNAMED --add-opens=java.base/java.nio=ALL-UNNAMED --add-opens=java.base/java.util=ALL-UNNAMED --add-opens=java.base/java.util.concurrent=ALL-UNNAMED --add-opens=java.base/java.util.concurrent.atomic=ALL-UNNAMED --add-opens=java.base/jdk.internal.ref=ALL-UNNAMED --add-opens=java.base/sun.nio.ch=ALL-UNNAMED --add-opens=java.base/sun.nio.cs=ALL-UNNAMED --add-opens=java.base/sun.security.action=ALL-UNNAMED --add-opens=java.base/sun.util.calendar=ALL-UNNAMED --add-opens=java.security.jgss/sun.security.krb5=ALL-UNNAMED -Djdk.reflect.useDirectMethodHandle=false -Dderby.system.home=/tmp/twa78/spark/</td></tr><tr><td style=\"text-align:left;\">fs.azure.sas.campus-user.madsstorage002.blob.core.windows.net</td><td>sp=racwdl&st=2024-09-19T08:03:31Z&se=2025-09-19T16:03:31Z&spr=https&sv=2022-11-02&sr=c&sig=kMP%2BsBsRzdVVR8rrg%2BNbDhkRBNs6Q98kYY695XMRFDU%3D</td></tr><tr><td style=\"text-align:left;\">spark.executor.memory</td><td>1g</td></tr><tr><td style=\"text-align:left;\">spark.executor.instances</td><td>2</td></tr><tr><td style=\"text-align:left;\">spark.serializer.objectStreamReset</td><td>100</td></tr><tr><td style=\"text-align:left;\">spark.driver.maxResultSize</td><td>0</td></tr><tr><td style=\"text-align:left;\">spark.submit.deployMode</td><td>client</td></tr><tr><td style=\"text-align:left;\">spark.master</td><td>k8s://https://kubernetes.default.svc.cluster.local:443</td></tr><tr><td style=\"text-align:left;\">spark.fs.azure</td><td>org.apache.hadoop.fs.azure.NativeAzureFileSystem</td></tr><tr><td style=\"text-align:left;\">spark.memory.fraction</td><td>0.1</td></tr><tr><td style=\"text-align:left;\">spark.app.name</td><td>twa78 (notebook)</td></tr><tr><td style=\"text-align:left;\">spark.app.submitTime</td><td>1743793767618</td></tr><tr><td style=\"text-align:left;\">spark.executor.id</td><td>driver</td></tr><tr><td style=\"text-align:left;\">spark.kubernetes.memoryOverheadFactor</td><td>0.3</td></tr><tr><td style=\"text-align:left;\">spark.driver.host</td><td>spark-master-svc</td></tr><tr><td style=\"text-align:left;\">spark.app.startTime</td><td>1743793767719</td></tr><tr><td style=\"text-align:left;\">spark.kubernetes.namespace</td><td>twa78</td></tr><tr><td style=\"text-align:left;\">spark.ui.port</td><td>${env:SPARK_UI_PORT}</td></tr><tr><td style=\"text-align:left;\">spark.kubernetes.container.image</td><td>madsregistry001.azurecr.io/hadoop-spark:v3.3.5-openjdk-8</td></tr><tr><td style=\"text-align:left;\">spark.kubernetes.executor.podTemplateFile</td><td>/opt/spark/conf/executor-pod-template.yaml</td></tr><tr><td style=\"text-align:left;\">spark.kubernetes.executor.podNamePrefix</td><td>twa78-notebook-c9ded7960235481a</td></tr><tr><td style=\"text-align:left;\">spark.rdd.compress</td><td>True</td></tr><tr><td style=\"text-align:left;\">spark.executor.extraJavaOptions</td><td>-Djava.net.preferIPv6Addresses=false -XX:+IgnoreUnrecognizedVMOptions --add-opens=java.base/java.lang=ALL-UNNAMED --add-opens=java.base/java.lang.invoke=ALL-UNNAMED --add-opens=java.base/java.lang.reflect=ALL-UNNAMED --add-opens=java.base/java.io=ALL-UNNAMED --add-opens=java.base/java.net=ALL-UNNAMED --add-opens=java.base/java.nio=ALL-UNNAMED --add-opens=java.base/java.util=ALL-UNNAMED --add-opens=java.base/java.util.concurrent=ALL-UNNAMED --add-opens=java.base/java.util.concurrent.atomic=ALL-UNNAMED --add-opens=java.base/jdk.internal.ref=ALL-UNNAMED --add-opens=java.base/sun.nio.ch=ALL-UNNAMED --add-opens=java.base/sun.nio.cs=ALL-UNNAMED --add-opens=java.base/sun.security.action=ALL-UNNAMED --add-opens=java.base/sun.util.calendar=ALL-UNNAMED --add-opens=java.security.jgss/sun.security.krb5=ALL-UNNAMED -Djdk.reflect.useDirectMethodHandle=false</td></tr><tr><td style=\"text-align:left;\">spark.cores.max</td><td>2</td></tr><tr><td style=\"text-align:left;\">spark.app.id</td><td>spark-3088c136d9334fafa6de59fe5b1f28c3</td></tr><tr><td style=\"text-align:left;\">spark.driver.port</td><td>7077</td></tr><tr><td style=\"text-align:left;\">spark.submit.pyFiles</td><td></td></tr><tr><td style=\"text-align:left;\">spark.executor.cores</td><td>1</td></tr><tr><td style=\"text-align:left;\">spark.sql.shuffle.partitions</td><td>8</td></tr><tr><td style=\"text-align:left;\">spark.ui.showConsoleProgress</td><td>true</td></tr><tr><td style=\"text-align:left;\">spark.kubernetes.executor.container.image</td><td>madsregistry001.azurecr.io/hadoop-spark:v3.3.5-openjdk-8-1.0.02</td></tr></table><p><b>Notes</b></p><ul><li>The spark session <code>spark</code> and spark context <code>sc</code> global variables have been defined by <code>start_spark()</code>.</li><li>Please run <code>stop_spark()</code> before closing the notebook or restarting the kernel or kill <code>twa78 (notebook)</code> by hand using the link in the Spark UI.</li></ul>"
      ],
      "text/plain": [
       "<IPython.core.display.HTML object>"
      ]
     },
     "metadata": {},
     "output_type": "display_data"
    }
   ],
   "source": [
    "# Run this cell to start a spark session in this notebook\n",
    "\n",
    "#start_spark(executor_instances=4, executor_cores=2, worker_memory=4, master_memory=4)\n",
    "start_spark(executor_instances=2, executor_cores=1, worker_memory=1, master_memory=1)"
   ]
  },
  {
   "cell_type": "code",
   "execution_count": 3,
   "id": "a00a161b-0750-4616-8ecd-7b908e37aa7e",
   "metadata": {},
   "outputs": [],
   "source": [
    "# Write your imports here or insert cells below\n",
    "\n",
    "from pyspark.sql import functions as F\n",
    "from pyspark.sql.types import *"
   ]
  },
  {
   "cell_type": "code",
   "execution_count": 4,
   "id": "5f631901-c8d1-4458-97c0-fc6f4bed1fa8",
   "metadata": {},
   "outputs": [
    {
     "name": "stdout",
     "output_type": "stream",
     "text": [
      "2025-04-05 08:10:06,346 WARN util.NativeCodeLoader: Unable to load native-hadoop library for your platform... using builtin-java classes where applicable\n",
      "2025-04-05 08:10:06,610 INFO impl.MetricsConfig: Loaded properties from hadoop-metrics2.properties\n",
      "2025-04-05 08:10:06,656 INFO impl.MetricsSystemImpl: Scheduled Metric snapshot period at 10 second(s).\n",
      "2025-04-05 08:10:06,656 INFO impl.MetricsSystemImpl: azure-file-system metrics system started\n",
      "Found 5 items\n",
      "drwxrwxrwx   -          0 1970-01-01 12:00 wasbs://campus-data@madsstorage002.blob.core.windows.net/ghcnd/daily\n",
      "-rwxrwxrwx   1       3659 2025-02-18 15:09 wasbs://campus-data@madsstorage002.blob.core.windows.net/ghcnd/ghcnd-countries.txt\n",
      "-rwxrwxrwx   1   35218290 2025-02-18 15:09 wasbs://campus-data@madsstorage002.blob.core.windows.net/ghcnd/ghcnd-inventory.txt\n",
      "-rwxrwxrwx   1       1086 2025-02-18 15:09 wasbs://campus-data@madsstorage002.blob.core.windows.net/ghcnd/ghcnd-states.txt\n",
      "-rwxrwxrwx   1   11150502 2025-02-18 15:09 wasbs://campus-data@madsstorage002.blob.core.windows.net/ghcnd/ghcnd-stations.txt\n",
      "2025-04-05 08:10:07,162 INFO impl.MetricsSystemImpl: Stopping azure-file-system metrics system...\n",
      "2025-04-05 08:10:07,163 INFO impl.MetricsSystemImpl: azure-file-system metrics system stopped.\n",
      "2025-04-05 08:10:07,163 INFO impl.MetricsSystemImpl: azure-file-system metrics system shutdown complete.\n",
      "2025-04-05 08:10:08,350 WARN util.NativeCodeLoader: Unable to load native-hadoop library for your platform... using builtin-java classes where applicable\n",
      "2025-04-05 08:10:08,613 INFO impl.MetricsConfig: Loaded properties from hadoop-metrics2.properties\n",
      "2025-04-05 08:10:08,662 INFO impl.MetricsSystemImpl: Scheduled Metric snapshot period at 10 second(s).\n",
      "2025-04-05 08:10:08,662 INFO impl.MetricsSystemImpl: azure-file-system metrics system started\n",
      "2025-04-05 08:10:09,264 INFO impl.MetricsSystemImpl: Stopping azure-file-system metrics system...\n",
      "2025-04-05 08:10:09,264 INFO impl.MetricsSystemImpl: azure-file-system metrics system stopped.\n",
      "2025-04-05 08:10:09,264 INFO impl.MetricsSystemImpl: azure-file-system metrics system shutdown complete.\n"
     ]
    }
   ],
   "source": [
    "# Use the hdfs command to explore the data in Azure Blob Storage\n",
    "\n",
    "!hdfs dfs -ls wasbs://{azure_data_container_name}@{azure_account_name}.blob.core.windows.net/ghcnd/\n",
    "!hdfs dfs -ls wasbs://{azure_data_container_name}@{azure_account_name}.blob.core.windows.net/ghcnd/daily/ > file_list.txt"
   ]
  },
  {
   "cell_type": "code",
   "execution_count": 5,
   "id": "580128ea-daa8-452f-a44a-035e008e9c42",
   "metadata": {},
   "outputs": [
    {
     "name": "stdout",
     "output_type": "stream",
     "text": [
      "2025-04-05 08:10:12,189 WARN util.NativeCodeLoader: Unable to load native-hadoop library for your platform... using builtin-java classes where applicable\n",
      "2025-04-05 08:10:12,447 INFO impl.MetricsConfig: Loaded properties from hadoop-metrics2.properties\n",
      "2025-04-05 08:10:12,495 INFO impl.MetricsSystemImpl: Scheduled Metric snapshot period at 10 second(s).\n",
      "2025-04-05 08:10:12,495 INFO impl.MetricsSystemImpl: azure-file-system metrics system started\n",
      "3659         3659         wasbs://campus-data@madsstorage002.blob.core.windows.net/ghcnd/ghcnd-countries.txt\n",
      "1086         1086         wasbs://campus-data@madsstorage002.blob.core.windows.net/ghcnd/ghcnd-states.txt\n",
      "11150502     11150502     wasbs://campus-data@madsstorage002.blob.core.windows.net/ghcnd/ghcnd-stations.txt\n",
      "13975887693  13975887693  wasbs://campus-data@madsstorage002.blob.core.windows.net/ghcnd/daily\n",
      "35218290     35218290     wasbs://campus-data@madsstorage002.blob.core.windows.net/ghcnd/ghcnd-inventory.txt\n",
      "2025-04-05 08:10:13,193 INFO impl.MetricsSystemImpl: Stopping azure-file-system metrics system...\n",
      "2025-04-05 08:10:13,193 INFO impl.MetricsSystemImpl: azure-file-system metrics system stopped.\n",
      "2025-04-05 08:10:13,193 INFO impl.MetricsSystemImpl: azure-file-system metrics system shutdown complete.\n"
     ]
    }
   ],
   "source": [
    "# Use the hdfs command to explore the data size in Azure Blob Storage\n",
    "\n",
    "!hdfs dfs -du wasbs://{azure_data_container_name}@{azure_account_name}.blob.core.windows.net/ghcnd/"
   ]
  },
  {
   "cell_type": "code",
   "execution_count": 6,
   "id": "dd916049-dfc7-4e88-a6ad-9d9ac476ceba",
   "metadata": {},
   "outputs": [
    {
     "name": "stdout",
     "output_type": "stream",
     "text": [
      "Total size of daily is 13975887693 bytes.\n"
     ]
    },
    {
     "data": {
      "image/png": "[encoded data removed]",
      "text/plain": [
       "<Figure size 1000x600 with 1 Axes>"
      ]
     },
     "metadata": {},
     "output_type": "display_data"
    }
   ],
   "source": [
    "# Plot size of daily over time\n",
    "\n",
    "import pandas as pd\n",
    "import matplotlib.pyplot as plt\n",
    "\n",
    "# Read the output from the file\n",
    "with open('file_list.txt', 'r') as f:\n",
    "    lines = f.readlines()\n",
    "\n",
    "# Extract the file size and filename\n",
    "file_sizes = []\n",
    "years = []\n",
    "for line in lines:\n",
    "    parts = line.split()\n",
    "    file_sizes.append(parts[2])\n",
    "    years.append(parts[-1][-11:-7])\n",
    "\n",
    "file_sizes.pop(0)\n",
    "years.pop(0)\n",
    "\n",
    "total = 0\n",
    "file_sizes_mb = []\n",
    "for size in file_sizes:\n",
    "    total += int(size)\n",
    "    file_sizes_mb.append(int(size)/1000000)\n",
    "\n",
    "print(f\"Total size of daily is {total} bytes.\")\n",
    "\n",
    "years_int = []\n",
    "for year in years:\n",
    "    years_int.append(int(year))\n",
    "\n",
    "\n",
    "# Plot the data\n",
    "plt.figure(figsize=(10, 6))\n",
    "\n",
    "# Plotting the 'Year' vs 'Size' data\n",
    "plt.scatter(years_int, file_sizes_mb, s=5)\n",
    "\n",
    "# Title and labels\n",
    "plt.title('Size of CSV Files Over Time', fontsize=16)\n",
    "plt.xlabel('Year', fontsize=14)\n",
    "plt.ylabel('File Size (megabytes)', fontsize=14)\n",
    "\n",
    "# Increase font size for y-ticks\n",
    "plt.yticks(fontsize=12)\n",
    "\n",
    "# Add grid and adjust layout\n",
    "plt.grid(True)\n",
    "plt.tight_layout()\n",
    "\n",
    "# Show plot\n",
    "plt.show()\n"
   ]
  },
  {
   "cell_type": "code",
   "execution_count": 7,
   "id": "6c17a55d-1556-4079-88c8-cb56f5dadebf",
   "metadata": {},
   "outputs": [
    {
     "name": "stdout",
     "output_type": "stream",
     "text": [
      "wasbs://campus-data@madsstorage002.blob.core.windows.net/ghcnd/daily/*.csv.gz\n"
     ]
    }
   ],
   "source": [
    "# Define the input path for daily\n",
    "\n",
    "daily_relative_path = f'ghcnd/daily/*.csv.gz'\n",
    "daily_path = f'wasbs://{azure_data_container_name}@{azure_account_name}.blob.core.windows.net/{daily_relative_path}'\n",
    "\n",
    "print(daily_path)"
   ]
  },
  {
   "cell_type": "code",
   "execution_count": 8,
   "id": "5926e311-de42-46e2-a907-a082659f11f1",
   "metadata": {},
   "outputs": [
    {
     "name": "stderr",
     "output_type": "stream",
     "text": [
      "                                                                                "
     ]
    },
    {
     "name": "stdout",
     "output_type": "stream",
     "text": [
      "<class 'pyspark.sql.dataframe.DataFrame'>\n",
      "root\n",
      " |-- ID: string (nullable = true)\n",
      " |-- DATE: integer (nullable = true)\n",
      " |-- ELEMENT: string (nullable = true)\n",
      " |-- VALUE: integer (nullable = true)\n",
      " |-- M-FLAG: string (nullable = true)\n",
      " |-- Q-FLAG: string (nullable = true)\n",
      " |-- S-FLAG: string (nullable = true)\n",
      " |-- OBS-TIME: integer (nullable = true)\n",
      "\n",
      "DataFrame[ID: string, DATE: int, ELEMENT: string, VALUE: int, M-FLAG: string, Q-FLAG: string, S-FLAG: string, OBS-TIME: int]\n"
     ]
    },
    {
     "name": "stderr",
     "output_type": "stream",
     "text": [
      "                                                                                "
     ]
    },
    {
     "name": "stdout",
     "output_type": "stream",
     "text": [
      "+-----------+--------+-------+-----+------+------+------+--------+\n",
      "|ID         |DATE    |ELEMENT|VALUE|M-FLAG|Q-FLAG|S-FLAG|OBS-TIME|\n",
      "+-----------+--------+-------+-----+------+------+------+--------+\n",
      "|ASN00037091|20100101|PRCP   |0    |NULL  |NULL  |a     |NULL    |\n",
      "|ASN00037104|20100101|PRCP   |86   |NULL  |NULL  |a     |NULL    |\n",
      "|ASN00037107|20100101|PRCP   |0    |NULL  |NULL  |a     |NULL    |\n",
      "|ASN00037112|20100101|PRCP   |50   |NULL  |NULL  |a     |NULL    |\n",
      "|ASN00037119|20100101|PRCP   |0    |NULL  |NULL  |a     |NULL    |\n",
      "|ASN00037120|20100101|PRCP   |295  |NULL  |NULL  |a     |NULL    |\n",
      "|ASN00038000|20100101|TMAX   |404  |NULL  |NULL  |a     |NULL    |\n",
      "|ASN00038000|20100101|TMIN   |250  |NULL  |NULL  |a     |NULL    |\n",
      "|ASN00038000|20100101|PRCP   |4    |NULL  |NULL  |a     |NULL    |\n",
      "|ASN00038003|20100101|TMAX   |383  |NULL  |NULL  |a     |NULL    |\n",
      "|ASN00038003|20100101|TMIN   |236  |NULL  |NULL  |a     |NULL    |\n",
      "|ASN00038003|20100101|PRCP   |0    |NULL  |NULL  |a     |NULL    |\n",
      "|ASN00038004|20100101|PRCP   |92   |NULL  |NULL  |a     |NULL    |\n",
      "|ASN00038005|20100101|PRCP   |84   |NULL  |NULL  |a     |NULL    |\n",
      "|ASN00038009|20100101|PRCP   |0    |NULL  |NULL  |a     |NULL    |\n",
      "|ASN00038010|20100101|PRCP   |60   |NULL  |NULL  |a     |NULL    |\n",
      "|ASN00038012|20100101|PRCP   |0    |NULL  |NULL  |a     |NULL    |\n",
      "|ASN00038013|20100101|PRCP   |0    |NULL  |NULL  |a     |NULL    |\n",
      "|ASN00038014|20100101|PRCP   |0    |NULL  |NULL  |a     |NULL    |\n",
      "|ASN00038016|20100101|PRCP   |0    |NULL  |NULL  |a     |NULL    |\n",
      "+-----------+--------+-------+-----+------+------+------+--------+\n",
      "only showing top 20 rows\n",
      "\n"
     ]
    }
   ],
   "source": [
    "# Define the schema\n",
    "schema = StructType([\n",
    "    StructField(\"ID\", StringType(), True),\n",
    "    StructField(\"DATE\", IntegerType(), True),\n",
    "    StructField(\"ELEMENT\", StringType(), True),\n",
    "    StructField(\"VALUE\", IntegerType(), True),\n",
    "    StructField(\"M-FLAG\", StringType(), True), \n",
    "    StructField(\"Q-FLAG\", StringType(), True), \n",
    "    StructField(\"S-FLAG\", StringType(), True),\n",
    "    StructField(\"OBS-TIME\", IntegerType(), True)\n",
    "])\n",
    "\n",
    "# Load a subset of the last year in daily into Spark from Azure Blob Storage using spark.read.csv\n",
    "daily = spark.read.csv(daily_path, schema=schema).limit(1000)\n",
    "\n",
    "print(type(daily))\n",
    "daily.printSchema()\n",
    "print(daily)\n",
    "daily.show(20, False)"
   ]
  },
  {
   "cell_type": "code",
   "execution_count": 9,
   "id": "731e5a3f-67e4-4ef9-a704-f4ed240302e8",
   "metadata": {},
   "outputs": [
    {
     "name": "stdout",
     "output_type": "stream",
     "text": [
      "wasbs://campus-data@madsstorage002.blob.core.windows.net/ghcnd/ghcnd-stations.txt\n"
     ]
    }
   ],
   "source": [
    "# Define the input path for stations\n",
    "\n",
    "stations_relative_path = f'ghcnd/ghcnd-stations.txt'\n",
    "stations_path = f'wasbs://{azure_data_container_name}@{azure_account_name}.blob.core.windows.net/{stations_relative_path}'\n",
    "\n",
    "print(stations_path)"
   ]
  },
  {
   "cell_type": "code",
   "execution_count": 10,
   "id": "a5146854-c4bf-4929-a400-fce422369251",
   "metadata": {},
   "outputs": [
    {
     "name": "stdout",
     "output_type": "stream",
     "text": [
      "<class 'pyspark.sql.dataframe.DataFrame'>\n",
      "root\n",
      " |-- ID: string (nullable = true)\n",
      " |-- LATITUDE: string (nullable = true)\n",
      " |-- LONGITUDE: string (nullable = true)\n",
      " |-- ELEVATION: string (nullable = true)\n",
      " |-- STATE_ID: string (nullable = true)\n",
      " |-- NAME: string (nullable = true)\n",
      " |-- NETWORK: string (nullable = true)\n",
      " |-- CODE: string (nullable = true)\n",
      "\n",
      "DataFrame[ID: string, LATITUDE: string, LONGITUDE: string, ELEVATION: string, STATE_ID: string, NAME: string, NETWORK: string, CODE: string]\n"
     ]
    },
    {
     "name": "stderr",
     "output_type": "stream",
     "text": [
      "                                                                                "
     ]
    },
    {
     "name": "stdout",
     "output_type": "stream",
     "text": [
      "+-----------+--------+---------+---------+--------+------------------------+-------+-----+\n",
      "|ID         |LATITUDE|LONGITUDE|ELEVATION|STATE_ID|NAME                    |NETWORK|CODE |\n",
      "+-----------+--------+---------+---------+--------+------------------------+-------+-----+\n",
      "|ACW00011604|17.1167 |-61.7833 |10.      |        |ST JOHNS COOLIDGE FLD   |       |     |\n",
      "|ACW00011647|17.1333 |-61.7833 |19.      |        |ST JOHNS                |       |     |\n",
      "|AE000041196|25.3330 |55.5170  |34.      |        |SHARJAH INTER. AIRP     |GSN    |41196|\n",
      "|AEM00041194|25.2550 |55.3640  |10.      |        |DUBAI INTL              |       |41194|\n",
      "|AEM00041217|24.4330 |54.6510  |26.      |        |ABU DHABI INTL          |       |41217|\n",
      "|AEM00041218|24.2620 |55.6090  |264.     |        |AL AIN INTL             |       |41218|\n",
      "|AF000040930|35.3170 |69.0170  |3366.    |        |NORTH-SALANG            |GSN    |40930|\n",
      "|AFM00040938|34.2100 |62.2280  |977.     |        |HERAT                   |       |40938|\n",
      "|AFM00040948|34.5660 |69.2120  |1791.    |        |KABUL INTL              |       |40948|\n",
      "|AFM00040990|31.5000 |65.8500  |1010.    |        |KANDAHAR AIRPORT        |       |40990|\n",
      "|AG000060390|36.7167 |3.2500   |24.      |        |ALGER-DAR EL BEIDA      |GSN    |60390|\n",
      "|AG000060590|30.5667 |2.8667   |397.     |        |EL-GOLEA                |GSN    |60590|\n",
      "|AG000060611|28.0500 |9.6331   |561.     |        |IN-AMENAS               |GSN    |60611|\n",
      "|AG000060680|22.8000 |5.4331   |1362.    |        |TAMANRASSET             |GSN    |60680|\n",
      "|AGE00135039|35.7297 |0.6500   |50.      |        |ORAN-HOPITAL MILITAIRE  |       |     |\n",
      "|AGE00147704|36.9700 |7.7900   |161.     |        |ANNABA-CAP DE GARDE     |       |     |\n",
      "|AGE00147705|36.7800 |3.0700   |59.      |        |ALGIERS-VILLE/UNIVERSITE|       |     |\n",
      "|AGE00147706|36.8000 |3.0300   |344.     |        |ALGIERS-BOUZAREAH       |       |     |\n",
      "|AGE00147707|36.8000 |3.0400   |38.      |        |ALGIERS-CAP CAXINE      |       |     |\n",
      "|AGE00147708|36.7200 |4.0500   |222.     |        |TIZI OUZOU              |       |60395|\n",
      "+-----------+--------+---------+---------+--------+------------------------+-------+-----+\n",
      "only showing top 20 rows\n",
      "\n",
      "129657 rows in this dataframe.\n"
     ]
    }
   ],
   "source": [
    "# Load the stations metadata into Spark from Azure Blob Storage using spark.read.text\n",
    "stations = spark.read.text(stations_path)\n",
    "\n",
    "# Use substring to extract parts of the string into new columns\n",
    "stations = stations.withColumn(\"ID\", F.trim(F.substring(\"value\", 1, 11))) \\\n",
    "                   .withColumn(\"LATITUDE\", F.trim(F.substring(\"value\", 12, 9))) \\\n",
    "                   .withColumn(\"LONGITUDE\", F.trim(F.substring(\"value\", 22, 9))) \\\n",
    "                   .withColumn(\"ELEVATION\", F.trim(F.substring(\"value\", 32, 5))) \\\n",
    "                   .withColumn(\"STATE_ID\", F.trim(F.substring(\"value\", 38, 3))) \\\n",
    "                   .withColumn(\"NAME\", F.trim(F.substring(\"value\", 42, 29))) \\\n",
    "                   .withColumn(\"NETWORK\", F.trim(F.substring(\"value\", 72, 9))) \\\n",
    "                   .withColumn(\"CODE\", F.trim(F.substring(\"value\", 81, 100)))  \n",
    "stations = stations.drop('value')\n",
    "\n",
    "# Show the resulting DataFrame\n",
    "print(type(stations))\n",
    "stations.printSchema()\n",
    "print(stations)\n",
    "stations.show(20, False)\n",
    "print(f'{stations.count()} rows in this dataframe.')"
   ]
  },
  {
   "cell_type": "code",
   "execution_count": 11,
   "id": "861c7812-9bf3-4eaa-9ef2-e8e29c23820a",
   "metadata": {},
   "outputs": [
    {
     "name": "stdout",
     "output_type": "stream",
     "text": [
      "wasbs://campus-data@madsstorage002.blob.core.windows.net/ghcnd/ghcnd-stations.txt\n"
     ]
    }
   ],
   "source": [
    "# Define the input path for states\n",
    "\n",
    "states_relative_path = f'ghcnd/ghcnd-states.txt'\n",
    "states_path = f'wasbs://{azure_data_container_name}@{azure_account_name}.blob.core.windows.net/{states_relative_path}'\n",
    "\n",
    "print(stations_path)"
   ]
  },
  {
   "cell_type": "code",
   "execution_count": 12,
   "id": "c1485418-ddbe-4017-900b-27e8c0cf132e",
   "metadata": {},
   "outputs": [
    {
     "name": "stdout",
     "output_type": "stream",
     "text": [
      "<class 'pyspark.sql.dataframe.DataFrame'>\n",
      "root\n",
      " |-- STATE_ID: string (nullable = true)\n",
      " |-- STATE: string (nullable = true)\n",
      "\n",
      "DataFrame[STATE_ID: string, STATE: string]\n",
      "+--------+--------------------+\n",
      "|STATE_ID|STATE               |\n",
      "+--------+--------------------+\n",
      "|AB      |ALBERTA             |\n",
      "|AK      |ALASKA              |\n",
      "|AL      |ALABAMA             |\n",
      "|AR      |ARKANSAS            |\n",
      "|AS      |AMERICAN SAMOA      |\n",
      "|AZ      |ARIZONA             |\n",
      "|BC      |BRITISH COLUMBIA    |\n",
      "|CA      |CALIFORNIA          |\n",
      "|CO      |COLORADO            |\n",
      "|CT      |CONNECTICUT         |\n",
      "|DC      |DISTRICT OF COLUMBIA|\n",
      "|DE      |DELAWARE            |\n",
      "|FL      |FLORIDA             |\n",
      "|FM      |MICRONESIA          |\n",
      "|GA      |GEORGIA             |\n",
      "|GU      |GUAM                |\n",
      "|HI      |HAWAII              |\n",
      "|IA      |IOWA                |\n",
      "|ID      |IDAHO               |\n",
      "|IL      |ILLINOIS            |\n",
      "+--------+--------------------+\n",
      "only showing top 20 rows\n",
      "\n",
      "74 rows in this dataframe.\n"
     ]
    }
   ],
   "source": [
    "# Load the states metadata into Spark from Azure Blob Storage using spark.read.text\n",
    "states = spark.read.text(states_path)\n",
    "\n",
    "# Use substring to extract parts of the string into new columns\n",
    "states = states.withColumn(\"STATE_ID\", F.trim(F.substring(\"value\", 1, 2))) \\\n",
    "               .withColumn(\"STATE\", F.trim(F.substring(\"value\", 4, 100)))\n",
    "states = states.drop('value')\n",
    "\n",
    "# Show the resulting DataFrame\n",
    "print(type(states))\n",
    "states.printSchema()\n",
    "print(states)\n",
    "states.show(20, False)\n",
    "print(f'{states.count()} rows in this dataframe.')"
   ]
  },
  {
   "cell_type": "code",
   "execution_count": 13,
   "id": "7ed58683-d9ed-438d-a230-9dc90e93b430",
   "metadata": {},
   "outputs": [
    {
     "name": "stdout",
     "output_type": "stream",
     "text": [
      "wasbs://campus-data@madsstorage002.blob.core.windows.net/ghcnd/ghcnd-countries.txt\n"
     ]
    }
   ],
   "source": [
    "countries_relative_path = f'ghcnd/ghcnd-countries.txt'\n",
    "countries_path = f'wasbs://{azure_data_container_name}@{azure_account_name}.blob.core.windows.net/{countries_relative_path}'\n",
    "\n",
    "print(countries_path)"
   ]
  },
  {
   "cell_type": "code",
   "execution_count": 14,
   "id": "bdf3db3b-9e41-4085-97eb-2ba597eb96ed",
   "metadata": {},
   "outputs": [
    {
     "name": "stdout",
     "output_type": "stream",
     "text": [
      "<class 'pyspark.sql.dataframe.DataFrame'>\n",
      "root\n",
      " |-- COUNTRY_ID: string (nullable = true)\n",
      " |-- COUNTRY: string (nullable = true)\n",
      "\n",
      "DataFrame[COUNTRY_ID: string, COUNTRY: string]\n",
      "+----------+------------------------------+\n",
      "|COUNTRY_ID|COUNTRY                       |\n",
      "+----------+------------------------------+\n",
      "|AC        |Antigua and Barbuda           |\n",
      "|AE        |United Arab Emirates          |\n",
      "|AF        |Afghanistan                   |\n",
      "|AG        |Algeria                       |\n",
      "|AJ        |Azerbaijan                    |\n",
      "|AL        |Albania                       |\n",
      "|AM        |Armenia                       |\n",
      "|AO        |Angola                        |\n",
      "|AQ        |American Samoa [United States]|\n",
      "|AR        |Argentina                     |\n",
      "|AS        |Australia                     |\n",
      "|AU        |Austria                       |\n",
      "|AY        |Antarctica                    |\n",
      "|BA        |Bahrain                       |\n",
      "|BB        |Barbados                      |\n",
      "|BC        |Botswana                      |\n",
      "|BD        |Bermuda [United Kingdom]      |\n",
      "|BE        |Belgium                       |\n",
      "|BF        |Bahamas, The                  |\n",
      "|BG        |Bangladesh                    |\n",
      "+----------+------------------------------+\n",
      "only showing top 20 rows\n",
      "\n",
      "219 rows in this dataframe.\n"
     ]
    }
   ],
   "source": [
    "# Load the countries metadata into Spark from Azure Blob Storage using spark.read.text\n",
    "countries = spark.read.text(countries_path)\n",
    "\n",
    "# Use substring to extract parts of the string into new columns\n",
    "countries = countries.withColumn(\"COUNTRY_ID\", F.trim(F.substring(\"value\", 1, 2))) \\\n",
    "                     .withColumn(\"COUNTRY\", F.trim(F.substring(\"value\", 4, 100)))\n",
    "countries = countries.drop('value')\n",
    "\n",
    "# Show the resulting DataFrame\n",
    "print(type(countries))\n",
    "countries.printSchema()\n",
    "print(countries)\n",
    "countries.show(20, False)\n",
    "print(f'{countries.count()} rows in this dataframe.')"
   ]
  },
  {
   "cell_type": "code",
   "execution_count": 15,
   "id": "f0e59784-e0ea-43aa-b9f3-41d6e26d993a",
   "metadata": {},
   "outputs": [
    {
     "name": "stdout",
     "output_type": "stream",
     "text": [
      "wasbs://campus-data@madsstorage002.blob.core.windows.net/ghcnd/ghcnd-inventory.txt\n"
     ]
    }
   ],
   "source": [
    "inventory_relative_path = f'ghcnd/ghcnd-inventory.txt'\n",
    "inventory_path = f'wasbs://{azure_data_container_name}@{azure_account_name}.blob.core.windows.net/{inventory_relative_path}'\n",
    "\n",
    "print(inventory_path)"
   ]
  },
  {
   "cell_type": "code",
   "execution_count": 16,
   "id": "706d42f5-ec1b-43af-89a8-5cf793ab2dea",
   "metadata": {},
   "outputs": [
    {
     "name": "stdout",
     "output_type": "stream",
     "text": [
      "<class 'pyspark.sql.dataframe.DataFrame'>\n",
      "root\n",
      " |-- ID: string (nullable = true)\n",
      " |-- LATITUDE: string (nullable = true)\n",
      " |-- LONGITUDE: string (nullable = true)\n",
      " |-- ELEMENT: string (nullable = true)\n",
      " |-- START_DATE: string (nullable = true)\n",
      " |-- END_DATE: string (nullable = true)\n",
      "\n",
      "DataFrame[ID: string, LATITUDE: string, LONGITUDE: string, ELEMENT: string, START_DATE: string, END_DATE: string]\n",
      "+-----------+--------+---------+-------+----------+--------+\n",
      "|ID         |LATITUDE|LONGITUDE|ELEMENT|START_DATE|END_DATE|\n",
      "+-----------+--------+---------+-------+----------+--------+\n",
      "|ACW00011604|17.1167 |-61.7833 |TMAX   |1949      |1949    |\n",
      "|ACW00011604|17.1167 |-61.7833 |TMIN   |1949      |1949    |\n",
      "|ACW00011604|17.1167 |-61.7833 |PRCP   |1949      |1949    |\n",
      "|ACW00011604|17.1167 |-61.7833 |SNOW   |1949      |1949    |\n",
      "|ACW00011604|17.1167 |-61.7833 |SNWD   |1949      |1949    |\n",
      "|ACW00011604|17.1167 |-61.7833 |PGTM   |1949      |1949    |\n",
      "|ACW00011604|17.1167 |-61.7833 |WDFG   |1949      |1949    |\n",
      "|ACW00011604|17.1167 |-61.7833 |WSFG   |1949      |1949    |\n",
      "|ACW00011604|17.1167 |-61.7833 |WT03   |1949      |1949    |\n",
      "|ACW00011604|17.1167 |-61.7833 |WT08   |1949      |1949    |\n",
      "|ACW00011604|17.1167 |-61.7833 |WT16   |1949      |1949    |\n",
      "|ACW00011647|17.1333 |-61.7833 |TMAX   |1961      |1961    |\n",
      "|ACW00011647|17.1333 |-61.7833 |TMIN   |1961      |1961    |\n",
      "|ACW00011647|17.1333 |-61.7833 |PRCP   |1957      |1970    |\n",
      "|ACW00011647|17.1333 |-61.7833 |SNOW   |1957      |1970    |\n",
      "|ACW00011647|17.1333 |-61.7833 |SNWD   |1957      |1970    |\n",
      "|ACW00011647|17.1333 |-61.7833 |WT03   |1961      |1961    |\n",
      "|ACW00011647|17.1333 |-61.7833 |WT16   |1961      |1966    |\n",
      "|AE000041196|25.3330 |55.5170  |TMAX   |1944      |2025    |\n",
      "|AE000041196|25.3330 |55.5170  |TMIN   |1944      |2025    |\n",
      "+-----------+--------+---------+-------+----------+--------+\n",
      "only showing top 20 rows\n",
      "\n",
      "765615 rows in this dataframe.\n"
     ]
    }
   ],
   "source": [
    "# Load the inventory metadata into Spark from Azure Blob Storage using spark.read.text\n",
    "inventory = spark.read.text(inventory_path)\n",
    "\n",
    "# Use substring to extract parts of the string into new columns\n",
    "inventory = inventory.withColumn(\"ID\", F.trim(F.substring(\"value\", 1, 11))) \\\n",
    "                     .withColumn(\"LATITUDE\", F.trim(F.substring(\"value\", 12, 9))) \\\n",
    "                     .withColumn(\"LONGITUDE\", F.trim(F.substring(\"value\", 23, 8))) \\\n",
    "                     .withColumn(\"ELEMENT\", F.trim(F.substring(\"value\", 32, 5))) \\\n",
    "                     .withColumn(\"START_DATE\", F.trim(F.substring(\"value\", 37, 4))) \\\n",
    "                     .withColumn(\"END_DATE\", F.trim(F.substring(\"value\", 41, 100)))\n",
    "inventory = inventory.drop('value')\n",
    "\n",
    "# Show the resulting DataFrame\n",
    "print(type(inventory))\n",
    "inventory.printSchema()\n",
    "print(inventory)\n",
    "inventory.show(20, False)\n",
    "print(f'{inventory.count()} rows in this dataframe.')"
   ]
  },
  {
   "cell_type": "code",
   "execution_count": 17,
   "id": "5affce9d-a1e4-4d37-81da-8fcb603ab83c",
   "metadata": {},
   "outputs": [
    {
     "name": "stdout",
     "output_type": "stream",
     "text": [
      "+-----------+--------+---------+---------+--------+------------------------+-------+-----+----------+\n",
      "|ID         |LATITUDE|LONGITUDE|ELEVATION|STATE_ID|NAME                    |NETWORK|CODE |COUNTRY_ID|\n",
      "+-----------+--------+---------+---------+--------+------------------------+-------+-----+----------+\n",
      "|ACW00011604|17.1167 |-61.7833 |10.      |        |ST JOHNS COOLIDGE FLD   |       |     |AC        |\n",
      "|ACW00011647|17.1333 |-61.7833 |19.      |        |ST JOHNS                |       |     |AC        |\n",
      "|AE000041196|25.3330 |55.5170  |34.      |        |SHARJAH INTER. AIRP     |GSN    |41196|AE        |\n",
      "|AEM00041194|25.2550 |55.3640  |10.      |        |DUBAI INTL              |       |41194|AE        |\n",
      "|AEM00041217|24.4330 |54.6510  |26.      |        |ABU DHABI INTL          |       |41217|AE        |\n",
      "|AEM00041218|24.2620 |55.6090  |264.     |        |AL AIN INTL             |       |41218|AE        |\n",
      "|AF000040930|35.3170 |69.0170  |3366.    |        |NORTH-SALANG            |GSN    |40930|AF        |\n",
      "|AFM00040938|34.2100 |62.2280  |977.     |        |HERAT                   |       |40938|AF        |\n",
      "|AFM00040948|34.5660 |69.2120  |1791.    |        |KABUL INTL              |       |40948|AF        |\n",
      "|AFM00040990|31.5000 |65.8500  |1010.    |        |KANDAHAR AIRPORT        |       |40990|AF        |\n",
      "|AG000060390|36.7167 |3.2500   |24.      |        |ALGER-DAR EL BEIDA      |GSN    |60390|AG        |\n",
      "|AG000060590|30.5667 |2.8667   |397.     |        |EL-GOLEA                |GSN    |60590|AG        |\n",
      "|AG000060611|28.0500 |9.6331   |561.     |        |IN-AMENAS               |GSN    |60611|AG        |\n",
      "|AG000060680|22.8000 |5.4331   |1362.    |        |TAMANRASSET             |GSN    |60680|AG        |\n",
      "|AGE00135039|35.7297 |0.6500   |50.      |        |ORAN-HOPITAL MILITAIRE  |       |     |AG        |\n",
      "|AGE00147704|36.9700 |7.7900   |161.     |        |ANNABA-CAP DE GARDE     |       |     |AG        |\n",
      "|AGE00147705|36.7800 |3.0700   |59.      |        |ALGIERS-VILLE/UNIVERSITE|       |     |AG        |\n",
      "|AGE00147706|36.8000 |3.0300   |344.     |        |ALGIERS-BOUZAREAH       |       |     |AG        |\n",
      "|AGE00147707|36.8000 |3.0400   |38.      |        |ALGIERS-CAP CAXINE      |       |     |AG        |\n",
      "|AGE00147708|36.7200 |4.0500   |222.     |        |TIZI OUZOU              |       |60395|AG        |\n",
      "+-----------+--------+---------+---------+--------+------------------------+-------+-----+----------+\n",
      "only showing top 20 rows\n",
      "\n"
     ]
    }
   ],
   "source": [
    "#Extract the two character country code from each station code in stations and store the output as a new column using the withColumn method.\n",
    "stations_temp = stations.withColumn(\"COUNTRY_ID\", F.trim(F.substring(\"ID\", 1, 2)))\n",
    "stations_temp.show(20, False)"
   ]
  },
  {
   "cell_type": "code",
   "execution_count": 18,
   "id": "72882317-76d2-4326-ba59-5f7ad389c414",
   "metadata": {},
   "outputs": [
    {
     "name": "stdout",
     "output_type": "stream",
     "text": [
      "+----------+-----------+--------+---------+---------+--------+------------------------+-------+-----+--------------------+\n",
      "|COUNTRY_ID|ID         |LATITUDE|LONGITUDE|ELEVATION|STATE_ID|NAME                    |NETWORK|CODE |COUNTRY             |\n",
      "+----------+-----------+--------+---------+---------+--------+------------------------+-------+-----+--------------------+\n",
      "|AC        |ACW00011604|17.1167 |-61.7833 |10.      |        |ST JOHNS COOLIDGE FLD   |       |     |Antigua and Barbuda |\n",
      "|AC        |ACW00011647|17.1333 |-61.7833 |19.      |        |ST JOHNS                |       |     |Antigua and Barbuda |\n",
      "|AE        |AE000041196|25.3330 |55.5170  |34.      |        |SHARJAH INTER. AIRP     |GSN    |41196|United Arab Emirates|\n",
      "|AE        |AEM00041194|25.2550 |55.3640  |10.      |        |DUBAI INTL              |       |41194|United Arab Emirates|\n",
      "|AE        |AEM00041217|24.4330 |54.6510  |26.      |        |ABU DHABI INTL          |       |41217|United Arab Emirates|\n",
      "|AE        |AEM00041218|24.2620 |55.6090  |264.     |        |AL AIN INTL             |       |41218|United Arab Emirates|\n",
      "|AF        |AF000040930|35.3170 |69.0170  |3366.    |        |NORTH-SALANG            |GSN    |40930|Afghanistan         |\n",
      "|AF        |AFM00040938|34.2100 |62.2280  |977.     |        |HERAT                   |       |40938|Afghanistan         |\n",
      "|AF        |AFM00040948|34.5660 |69.2120  |1791.    |        |KABUL INTL              |       |40948|Afghanistan         |\n",
      "|AF        |AFM00040990|31.5000 |65.8500  |1010.    |        |KANDAHAR AIRPORT        |       |40990|Afghanistan         |\n",
      "|AG        |AG000060390|36.7167 |3.2500   |24.      |        |ALGER-DAR EL BEIDA      |GSN    |60390|Algeria             |\n",
      "|AG        |AG000060590|30.5667 |2.8667   |397.     |        |EL-GOLEA                |GSN    |60590|Algeria             |\n",
      "|AG        |AG000060611|28.0500 |9.6331   |561.     |        |IN-AMENAS               |GSN    |60611|Algeria             |\n",
      "|AG        |AG000060680|22.8000 |5.4331   |1362.    |        |TAMANRASSET             |GSN    |60680|Algeria             |\n",
      "|AG        |AGE00135039|35.7297 |0.6500   |50.      |        |ORAN-HOPITAL MILITAIRE  |       |     |Algeria             |\n",
      "|AG        |AGE00147704|36.9700 |7.7900   |161.     |        |ANNABA-CAP DE GARDE     |       |     |Algeria             |\n",
      "|AG        |AGE00147705|36.7800 |3.0700   |59.      |        |ALGIERS-VILLE/UNIVERSITE|       |     |Algeria             |\n",
      "|AG        |AGE00147706|36.8000 |3.0300   |344.     |        |ALGIERS-BOUZAREAH       |       |     |Algeria             |\n",
      "|AG        |AGE00147707|36.8000 |3.0400   |38.      |        |ALGIERS-CAP CAXINE      |       |     |Algeria             |\n",
      "|AG        |AGE00147708|36.7200 |4.0500   |222.     |        |TIZI OUZOU              |       |60395|Algeria             |\n",
      "+----------+-----------+--------+---------+---------+--------+------------------------+-------+-----+--------------------+\n",
      "only showing top 20 rows\n",
      "\n"
     ]
    }
   ],
   "source": [
    "# Left join stations with countries\n",
    "stations_temp = stations_temp.join(countries, on=\"COUNTRY_ID\", how=\"left\")\n",
    "stations_temp.show(20, False)"
   ]
  },
  {
   "cell_type": "code",
   "execution_count": 19,
   "id": "ea320ab9-dc11-435f-9249-8453f9930e8a",
   "metadata": {},
   "outputs": [
    {
     "name": "stdout",
     "output_type": "stream",
     "text": [
      "+--------+----------+-----------+--------+---------+---------+------------------------+-------+-----+--------------------+-----+\n",
      "|STATE_ID|COUNTRY_ID|ID         |LATITUDE|LONGITUDE|ELEVATION|NAME                    |NETWORK|CODE |COUNTRY             |STATE|\n",
      "+--------+----------+-----------+--------+---------+---------+------------------------+-------+-----+--------------------+-----+\n",
      "|        |AC        |ACW00011604|17.1167 |-61.7833 |10.      |ST JOHNS COOLIDGE FLD   |       |     |Antigua and Barbuda |NULL |\n",
      "|        |AC        |ACW00011647|17.1333 |-61.7833 |19.      |ST JOHNS                |       |     |Antigua and Barbuda |NULL |\n",
      "|        |AE        |AE000041196|25.3330 |55.5170  |34.      |SHARJAH INTER. AIRP     |GSN    |41196|United Arab Emirates|NULL |\n",
      "|        |AE        |AEM00041194|25.2550 |55.3640  |10.      |DUBAI INTL              |       |41194|United Arab Emirates|NULL |\n",
      "|        |AE        |AEM00041217|24.4330 |54.6510  |26.      |ABU DHABI INTL          |       |41217|United Arab Emirates|NULL |\n",
      "|        |AE        |AEM00041218|24.2620 |55.6090  |264.     |AL AIN INTL             |       |41218|United Arab Emirates|NULL |\n",
      "|        |AF        |AF000040930|35.3170 |69.0170  |3366.    |NORTH-SALANG            |GSN    |40930|Afghanistan         |NULL |\n",
      "|        |AF        |AFM00040938|34.2100 |62.2280  |977.     |HERAT                   |       |40938|Afghanistan         |NULL |\n",
      "|        |AF        |AFM00040948|34.5660 |69.2120  |1791.    |KABUL INTL              |       |40948|Afghanistan         |NULL |\n",
      "|        |AF        |AFM00040990|31.5000 |65.8500  |1010.    |KANDAHAR AIRPORT        |       |40990|Afghanistan         |NULL |\n",
      "|        |AG        |AG000060390|36.7167 |3.2500   |24.      |ALGER-DAR EL BEIDA      |GSN    |60390|Algeria             |NULL |\n",
      "|        |AG        |AG000060590|30.5667 |2.8667   |397.     |EL-GOLEA                |GSN    |60590|Algeria             |NULL |\n",
      "|        |AG        |AG000060611|28.0500 |9.6331   |561.     |IN-AMENAS               |GSN    |60611|Algeria             |NULL |\n",
      "|        |AG        |AG000060680|22.8000 |5.4331   |1362.    |TAMANRASSET             |GSN    |60680|Algeria             |NULL |\n",
      "|        |AG        |AGE00135039|35.7297 |0.6500   |50.      |ORAN-HOPITAL MILITAIRE  |       |     |Algeria             |NULL |\n",
      "|        |AG        |AGE00147704|36.9700 |7.7900   |161.     |ANNABA-CAP DE GARDE     |       |     |Algeria             |NULL |\n",
      "|        |AG        |AGE00147705|36.7800 |3.0700   |59.      |ALGIERS-VILLE/UNIVERSITE|       |     |Algeria             |NULL |\n",
      "|        |AG        |AGE00147706|36.8000 |3.0300   |344.     |ALGIERS-BOUZAREAH       |       |     |Algeria             |NULL |\n",
      "|        |AG        |AGE00147707|36.8000 |3.0400   |38.      |ALGIERS-CAP CAXINE      |       |     |Algeria             |NULL |\n",
      "|        |AG        |AGE00147708|36.7200 |4.0500   |222.     |TIZI OUZOU              |       |60395|Algeria             |NULL |\n",
      "+--------+----------+-----------+--------+---------+---------+------------------------+-------+-----+--------------------+-----+\n",
      "only showing top 20 rows\n",
      "\n"
     ]
    }
   ],
   "source": [
    "# Left join stations with states\n",
    "stations_temp = stations_temp.join(states, on=\"STATE_ID\", how=\"left\")\n",
    "stations_temp.show(20, False)"
   ]
  },
  {
   "cell_type": "code",
   "execution_count": 20,
   "id": "614b523f-8102-4ff2-8647-50ed3ce69847",
   "metadata": {},
   "outputs": [
    {
     "name": "stdout",
     "output_type": "stream",
     "text": [
      "+-----------+--------+---------+-------+----------+--------+------------+\n",
      "|ID         |LATITUDE|LONGITUDE|ELEMENT|START_DATE|END_DATE|element_type|\n",
      "+-----------+--------+---------+-------+----------+--------+------------+\n",
      "|ACW00011604|17.1167 |-61.7833 |TMAX   |1949      |1949    |core        |\n",
      "|ACW00011604|17.1167 |-61.7833 |TMIN   |1949      |1949    |core        |\n",
      "|ACW00011604|17.1167 |-61.7833 |PRCP   |1949      |1949    |core        |\n",
      "|ACW00011604|17.1167 |-61.7833 |SNOW   |1949      |1949    |core        |\n",
      "|ACW00011604|17.1167 |-61.7833 |SNWD   |1949      |1949    |core        |\n",
      "|ACW00011604|17.1167 |-61.7833 |PGTM   |1949      |1949    |other       |\n",
      "|ACW00011604|17.1167 |-61.7833 |WDFG   |1949      |1949    |other       |\n",
      "|ACW00011604|17.1167 |-61.7833 |WSFG   |1949      |1949    |other       |\n",
      "|ACW00011604|17.1167 |-61.7833 |WT03   |1949      |1949    |other       |\n",
      "|ACW00011604|17.1167 |-61.7833 |WT08   |1949      |1949    |other       |\n",
      "|ACW00011604|17.1167 |-61.7833 |WT16   |1949      |1949    |other       |\n",
      "|ACW00011647|17.1333 |-61.7833 |TMAX   |1961      |1961    |core        |\n",
      "|ACW00011647|17.1333 |-61.7833 |TMIN   |1961      |1961    |core        |\n",
      "|ACW00011647|17.1333 |-61.7833 |PRCP   |1957      |1970    |core        |\n",
      "|ACW00011647|17.1333 |-61.7833 |SNOW   |1957      |1970    |core        |\n",
      "|ACW00011647|17.1333 |-61.7833 |SNWD   |1957      |1970    |core        |\n",
      "|ACW00011647|17.1333 |-61.7833 |WT03   |1961      |1961    |other       |\n",
      "|ACW00011647|17.1333 |-61.7833 |WT16   |1961      |1966    |other       |\n",
      "|AE000041196|25.3330 |55.5170  |TMAX   |1944      |2025    |core        |\n",
      "|AE000041196|25.3330 |55.5170  |TMIN   |1944      |2025    |core        |\n",
      "+-----------+--------+---------+-------+----------+--------+------------+\n",
      "only showing top 20 rows\n",
      "\n"
     ]
    }
   ],
   "source": [
    "# Define the core elements\n",
    "core_elements = [\"TMAX\", \"TMIN\", \"PRCP\", \"SNOW\", \"SNWD\"]\n",
    "\n",
    "# Create a new column to classify the element as 'core' or 'other'\n",
    "inventory_tagged = inventory.withColumn(\n",
    "    \"element_type\",\n",
    "    F.when(inventory[\"ELEMENT\"].isin(core_elements), \"core\").otherwise(\"other\")\n",
    ")\n",
    "\n",
    "inventory_tagged.show(20, False)"
   ]
  },
  {
   "cell_type": "code",
   "execution_count": 22,
   "id": "cba91473-d898-4620-a2fc-71156e783017",
   "metadata": {
    "scrolled": true
   },
   "outputs": [
    {
     "name": "stderr",
     "output_type": "stream",
     "text": [
      "[Stage 33:>                                                         (0 + 2) / 2]"
     ]
    },
    {
     "name": "stdout",
     "output_type": "stream",
     "text": [
      "+-----------+----------+---------+-----------------------+-------------------+--------------------+\n",
      "|ID         |first_year|last_year|distinct_elements_count|core_elements_count|other_elements_count|\n",
      "+-----------+----------+---------+-----------------------+-------------------+--------------------+\n",
      "|AE000041196|1944      |2025     |4                      |3                  |1                   |\n",
      "|AEM00041217|1983      |2025     |4                      |3                  |1                   |\n",
      "|AEM00041218|1994      |2025     |4                      |3                  |1                   |\n",
      "|AF000040930|1973      |1992     |5                      |4                  |1                   |\n",
      "|AFM00040990|1973      |2020     |5                      |4                  |1                   |\n",
      "|AG000060680|1940      |2004     |4                      |3                  |1                   |\n",
      "|AGE00147704|1909      |1937     |3                      |3                  |0                   |\n",
      "|AGE00147708|1879      |2025     |5                      |4                  |1                   |\n",
      "|AGE00147710|1909      |2009     |4                      |3                  |1                   |\n",
      "|AGE00147712|1879      |1938     |3                      |3                  |0                   |\n",
      "|AGE00147713|1878      |1938     |3                      |3                  |0                   |\n",
      "|AGE00147714|1896      |1938     |3                      |3                  |0                   |\n",
      "|AGE00147715|1879      |1938     |3                      |3                  |0                   |\n",
      "|AGE00147717|1880      |1938     |3                      |3                  |0                   |\n",
      "|AGE00147718|1880      |2025     |4                      |3                  |1                   |\n",
      "|AGE00147719|1888      |2025     |4                      |3                  |1                   |\n",
      "|AGE00147794|1926      |1938     |2                      |2                  |0                   |\n",
      "|AGM00060360|1945      |2025     |4                      |3                  |1                   |\n",
      "|AGM00060367|1984      |2014     |4                      |3                  |1                   |\n",
      "|AGM00060402|1973      |2025     |5                      |4                  |1                   |\n",
      "+-----------+----------+---------+-----------------------+-------------------+--------------------+\n",
      "only showing top 20 rows\n",
      "\n"
     ]
    },
    {
     "name": "stderr",
     "output_type": "stream",
     "text": [
      "                                                                                "
     ]
    }
   ],
   "source": [
    "# Expand inventory based on requirements\n",
    "inventory_temp = inventory_tagged.groupBy(\"ID\").agg(\n",
    "    F.min(\"START_DATE\").alias(\"first_year\"),\n",
    "    F.max(\"END_DATE\").alias(\"last_year\"),\n",
    "    F.countDistinct(\"ELEMENT\").alias(\"distinct_elements_count\"),\n",
    "    F.countDistinct(F.when(inventory_tagged[\"element_type\"] == \"core\", inventory_tagged[\"ELEMENT\"])).alias(\"core_elements_count\"),\n",
    "    F.countDistinct(F.when(inventory_tagged[\"element_type\"] == \"other\", inventory_tagged[\"ELEMENT\"])).alias(\"other_elements_count\")\n",
    ")\n",
    "\n",
    "# Show the result\n",
    "inventory_temp.show(20, False)"
   ]
  },
  {
   "cell_type": "code",
   "execution_count": 23,
   "id": "0c4ba6d8-1f61-45f6-af2f-39107db654a8",
   "metadata": {},
   "outputs": [
    {
     "name": "stderr",
     "output_type": "stream",
     "text": [
      "                                                                                "
     ]
    },
    {
     "name": "stdout",
     "output_type": "stream",
     "text": [
      "Stations that collected all five core elements: 20504\n"
     ]
    },
    {
     "name": "stderr",
     "output_type": "stream",
     "text": [
      "[Stage 47:=============================>                            (1 + 1) / 2]"
     ]
    },
    {
     "name": "stdout",
     "output_type": "stream",
     "text": [
      "Stations that collected only precipitation and no other elements: 16348\n"
     ]
    },
    {
     "name": "stderr",
     "output_type": "stream",
     "text": [
      "                                                                                "
     ]
    }
   ],
   "source": [
    "#  How many stations collect all five core elements? How many collect only precipitation and no other elements?\n",
    "\n",
    "# Filter stations that have collected all five core elements\n",
    "stations_with_all_core_elements = inventory_temp.filter(inventory_temp[\"core_elements_count\"] == 5).count()\n",
    "print(f\"Stations that collected all five core elements: {stations_with_all_core_elements}\")\n",
    "\n",
    "# Filter stations that collected only \"PRCP\" and no other elements\n",
    "stations_with_only_prcp = inventory_temp.filter(\n",
    "    (inventory_temp[\"core_elements_count\"] == 1) & (inventory_temp[\"other_elements_count\"] == 0)\n",
    ").count()\n",
    "print(f\"Stations that collected only precipitation and no other elements: {stations_with_only_prcp}\")\n",
    "\n"
   ]
  },
  {
   "cell_type": "code",
   "execution_count": 23,
   "id": "62321234-11f1-4e17-88ed-9cfb278e42b0",
   "metadata": {},
   "outputs": [
    {
     "name": "stderr",
     "output_type": "stream",
     "text": [
      "                                                                                "
     ]
    },
    {
     "name": "stdout",
     "output_type": "stream",
     "text": [
      "+-----------+--------+----------+--------+---------+---------+------------------------+-------+-----+--------------------+--------------+----------+---------+-----------------------+-------------------+--------------------+\n",
      "|ID         |STATE_ID|COUNTRY_ID|LATITUDE|LONGITUDE|ELEVATION|NAME                    |NETWORK|CODE |COUNTRY             |STATE         |first_year|last_year|distinct_elements_count|core_elements_count|other_elements_count|\n",
      "+-----------+--------+----------+--------+---------+---------+------------------------+-------+-----+--------------------+--------------+----------+---------+-----------------------+-------------------+--------------------+\n",
      "|AE000041196|        |AE        |25.3330 |55.5170  |34.      |SHARJAH INTER. AIRP     |GSN    |41196|United Arab Emirates|NULL          |1944      |2025     |4                      |3                  |1                   |\n",
      "|AEM00041217|        |AE        |24.4330 |54.6510  |26.      |ABU DHABI INTL          |       |41217|United Arab Emirates|NULL          |1983      |2025     |4                      |3                  |1                   |\n",
      "|AEM00041218|        |AE        |24.2620 |55.6090  |264.     |AL AIN INTL             |       |41218|United Arab Emirates|NULL          |1994      |2025     |4                      |3                  |1                   |\n",
      "|AF000040930|        |AF        |35.3170 |69.0170  |3366.    |NORTH-SALANG            |GSN    |40930|Afghanistan         |NULL          |1973      |1992     |5                      |4                  |1                   |\n",
      "|AFM00040990|        |AF        |31.5000 |65.8500  |1010.    |KANDAHAR AIRPORT        |       |40990|Afghanistan         |NULL          |1973      |2020     |5                      |4                  |1                   |\n",
      "|AG000060680|        |AG        |22.8000 |5.4331   |1362.    |TAMANRASSET             |GSN    |60680|Algeria             |NULL          |1940      |2004     |4                      |3                  |1                   |\n",
      "|AGE00147704|        |AG        |36.9700 |7.7900   |161.     |ANNABA-CAP DE GARDE     |       |     |Algeria             |NULL          |1909      |1937     |3                      |3                  |0                   |\n",
      "|AGE00147708|        |AG        |36.7200 |4.0500   |222.     |TIZI OUZOU              |       |60395|Algeria             |NULL          |1879      |2025     |5                      |4                  |1                   |\n",
      "|US1SCBF0007|SC      |US        |32.2624 |-80.8675 |7.       |BLUFFTON 1.9 N          |       |     |United States       |SOUTH CAROLINA|2008      |2009     |4                      |2                  |2                   |\n",
      "|US1SCBF0015|SC      |US        |32.2713 |-80.9683 |4.       |BLUFFTON 5.1 NW         |       |     |United States       |SOUTH CAROLINA|2008      |2023     |4                      |2                  |2                   |\n",
      "|US1SCBF0016|SC      |US        |32.2690 |-80.8742 |4.       |BLUFFTON 2.4 NNW        |       |     |United States       |SOUTH CAROLINA|2008      |2014     |4                      |2                  |2                   |\n",
      "|US1SCBF0023|SC      |US        |32.1007 |-80.8830 |3.       |DAUFUSKIE ISLAND 1.7 SW |       |     |United States       |SOUTH CAROLINA|2012      |2021     |2                      |2                  |0                   |\n",
      "|US1SCBF0028|SC      |US        |32.4009 |-80.6945 |5.       |BEAUFORT 1.8 S          |       |     |United States       |SOUTH CAROLINA|2013      |2014     |3                      |3                  |0                   |\n",
      "|US1SCBF0037|SC      |US        |32.4939 |-80.6334 |16.      |BEAUFORT 5.7 NE         |       |     |United States       |SOUTH CAROLINA|2019      |2025     |4                      |2                  |2                   |\n",
      "|US1SCBF0045|SC      |US        |32.4639 |-80.6817 |4.       |BEAUFORT 2.7 N          |       |     |United States       |SOUTH CAROLINA|2014      |2016     |4                      |2                  |2                   |\n",
      "|US1SCBF0052|SC      |US        |32.1897 |-80.7007 |2.       |HILTON HEAD ISLAND 2.7 E|       |     |United States       |SOUTH CAROLINA|2015      |2021     |3                      |2                  |1                   |\n",
      "|ACW00011604|        |AC        |17.1167 |-61.7833 |10.      |ST JOHNS COOLIDGE FLD   |       |     |Antigua and Barbuda |NULL          |1949      |1949     |11                     |5                  |6                   |\n",
      "|ACW00011647|        |AC        |17.1333 |-61.7833 |19.      |ST JOHNS                |       |     |Antigua and Barbuda |NULL          |1957      |1970     |7                      |5                  |2                   |\n",
      "|AEM00041194|        |AE        |25.2550 |55.3640  |10.      |DUBAI INTL              |       |41194|United Arab Emirates|NULL          |1983      |2025     |4                      |3                  |1                   |\n",
      "|AFM00040938|        |AF        |34.2100 |62.2280  |977.     |HERAT                   |       |40938|Afghanistan         |NULL          |1973      |2021     |5                      |4                  |1                   |\n",
      "+-----------+--------+----------+--------+---------+---------+------------------------+-------+-----+--------------------+--------------+----------+---------+-----------------------+-------------------+--------------------+\n",
      "only showing top 20 rows\n",
      "\n",
      "129657 rows in this dataframe.\n"
     ]
    }
   ],
   "source": [
    "stations_enriched = stations_temp.join(inventory_temp, on=\"ID\", how=\"left\")\n",
    "\n",
    "stations_enriched.show(20, False)\n",
    "print(f'{stations_enriched.count()} rows in this dataframe.')"
   ]
  },
  {
   "cell_type": "code",
   "execution_count": 24,
   "id": "feed52b3-dcb6-492c-a589-f3a461f8dcf6",
   "metadata": {},
   "outputs": [
    {
     "name": "stdout",
     "output_type": "stream",
     "text": [
      "wasbs://campus-user@madsstorage002.blob.core.windows.net/twa78/stations\n"
     ]
    }
   ],
   "source": [
    "# Define an output path for stations\n",
    "\n",
    "output_relative_path = f'{username}/stations'\n",
    "output_path = f'wasbs://{azure_user_container_name}@{azure_account_name}.blob.core.windows.net/{output_relative_path}'\n",
    "\n",
    "print(output_path)"
   ]
  },
  {
   "cell_type": "code",
   "execution_count": 25,
   "id": "b24beb8d-4488-4657-b0af-15f2468f92f0",
   "metadata": {},
   "outputs": [
    {
     "name": "stderr",
     "output_type": "stream",
     "text": [
      "25/03/23 12:15:46 WARN AzureFileSystemThreadPoolExecutor: Disabling threads for Delete operation as thread count 0 is <= 1\n",
      "25/03/23 12:15:49 WARN AzureFileSystemThreadPoolExecutor: Disabling threads for Delete operation as thread count 0 is <= 1\n"
     ]
    }
   ],
   "source": [
    "# Save the stations metadata to Azure Blob Storage from Spark\n",
    "\n",
    "stations_enriched.write.parquet(output_path, mode=\"overwrite\")"
   ]
  },
  {
   "cell_type": "code",
   "execution_count": 26,
   "id": "93c062b7-db91-4e7f-8435-b205ea54708b",
   "metadata": {},
   "outputs": [
    {
     "name": "stdout",
     "output_type": "stream",
     "text": [
      "2025-03-23 12:16:47,091 WARN util.NativeCodeLoader: Unable to load native-hadoop library for your platform... using builtin-java classes where applicable\n",
      "2025-03-23 12:16:47,350 INFO impl.MetricsConfig: Loaded properties from hadoop-metrics2.properties\n",
      "2025-03-23 12:16:47,396 INFO impl.MetricsSystemImpl: Scheduled Metric snapshot period at 10 second(s).\n",
      "2025-03-23 12:16:47,396 INFO impl.MetricsSystemImpl: azure-file-system metrics system started\n",
      "Found 4 items\n",
      "-rw-r--r--   1 twa78 supergroup          0 2025-03-23 12:15 wasbs://campus-user@madsstorage002.blob.core.windows.net/twa78/stations/_SUCCESS\n",
      "-rw-r--r--   1 twa78 supergroup    1595800 2025-03-23 12:15 wasbs://campus-user@madsstorage002.blob.core.windows.net/twa78/stations/part-00000-306a0bde-153c-4181-a159-46062114d309-c000.snappy.parquet\n",
      "-rw-r--r--   1 twa78 supergroup    1608860 2025-03-23 12:15 wasbs://campus-user@madsstorage002.blob.core.windows.net/twa78/stations/part-00001-306a0bde-153c-4181-a159-46062114d309-c000.snappy.parquet\n",
      "-rw-r--r--   1 twa78 supergroup    1113540 2025-03-23 12:15 wasbs://campus-user@madsstorage002.blob.core.windows.net/twa78/stations/part-00002-306a0bde-153c-4181-a159-46062114d309-c000.snappy.parquet\n",
      "2025-03-23 12:16:47,761 INFO impl.MetricsSystemImpl: Stopping azure-file-system metrics system...\n",
      "2025-03-23 12:16:47,761 INFO impl.MetricsSystemImpl: azure-file-system metrics system stopped.\n",
      "2025-03-23 12:16:47,761 INFO impl.MetricsSystemImpl: azure-file-system metrics system shutdown complete.\n"
     ]
    }
   ],
   "source": [
    "# Use the hdfs command to explore the data in Azure Blob Storage\n",
    "\n",
    "!hdfs dfs -ls wasbs://{azure_user_container_name}@{azure_account_name}.blob.core.windows.net/{username}/stations/"
   ]
  },
  {
   "cell_type": "code",
   "execution_count": 96,
   "id": "a27b1d89-f860-48b1-a69a-5bbefeb410dd",
   "metadata": {},
   "outputs": [
    {
     "name": "stderr",
     "output_type": "stream",
     "text": [
      "[Stage 137:======================================>                  (2 + 1) / 3]"
     ]
    },
    {
     "name": "stdout",
     "output_type": "stream",
     "text": [
      "+-----------+--------+-------+-----+------+------+------+--------+--------+----------+--------+---------+---------+------------------+---------+-----+----------+---------+-----------------------+-------------------+--------------------+\n",
      "|ID         |DATE    |ELEMENT|VALUE|M-FLAG|Q-FLAG|S-FLAG|OBS-TIME|STATE_ID|COUNTRY_ID|LATITUDE|LONGITUDE|ELEVATION|NAME              |COUNTRY  |STATE|first_year|last_year|distinct_elements_count|core_elements_count|other_elements_count|\n",
      "+-----------+--------+-------+-----+------+------+------+--------+--------+----------+--------+---------+---------+------------------+---------+-----+----------+---------+-----------------------+-------------------+--------------------+\n",
      "|ASN00004025|19120101|PRCP   |0    |NULL  |NULL  |a     |NULL    |        |AS        |-20.5000|119.8000 |-999.    |NIMINGARRA        |Australia|NULL |1909      |1967     |4                      |1                  |3                   |\n",
      "|ASN00004025|19090101|PRCP   |0    |NULL  |NULL  |a     |NULL    |        |AS        |-20.5000|119.8000 |-999.    |NIMINGARRA        |Australia|NULL |1909      |1967     |4                      |1                  |3                   |\n",
      "|ASN00004027|19120101|PRCP   |0    |NULL  |NULL  |a     |NULL    |        |AS        |-21.8861|120.1103 |380.     |NULLAGINE         |Australia|NULL |1897      |2004     |6                      |3                  |3                   |\n",
      "|ASN00004027|19090101|PRCP   |0    |NULL  |NULL  |a     |NULL    |        |AS        |-21.8861|120.1103 |380.     |NULLAGINE         |Australia|NULL |1897      |2004     |6                      |3                  |3                   |\n",
      "|ASN00014016|18730101|PRCP   |61   |NULL  |NULL  |a     |NULL    |        |AS        |-12.4000|130.8000 |24.      |DARWIN POST OFFICE|Australia|NULL |1869      |1962     |6                      |3                  |3                   |\n",
      "|ASN00037088|19780101|PRCP   |12   |NULL  |NULL  |a     |NULL    |        |AS        |-21.4500|143.6333 |300.     |ELVIRA            |Australia|NULL |1961      |1979     |1                      |1                  |0                   |\n",
      "|ASN00037088|19760101|PRCP   |0    |NULL  |NULL  |a     |NULL    |        |AS        |-21.4500|143.6333 |300.     |ELVIRA            |Australia|NULL |1961      |1979     |1                      |1                  |0                   |\n",
      "|ASN00037088|19790101|PRCP   |0    |NULL  |NULL  |a     |NULL    |        |AS        |-21.4500|143.6333 |300.     |ELVIRA            |Australia|NULL |1961      |1979     |1                      |1                  |0                   |\n",
      "|ASN00037088|19740101|PRCP   |508  |NULL  |NULL  |a     |NULL    |        |AS        |-21.4500|143.6333 |300.     |ELVIRA            |Australia|NULL |1961      |1979     |1                      |1                  |0                   |\n",
      "|ASN00037088|19700101|PRCP   |0    |NULL  |NULL  |a     |NULL    |        |AS        |-21.4500|143.6333 |300.     |ELVIRA            |Australia|NULL |1961      |1979     |1                      |1                  |0                   |\n",
      "|ASN00037088|19750101|PRCP   |92   |NULL  |NULL  |a     |NULL    |        |AS        |-21.4500|143.6333 |300.     |ELVIRA            |Australia|NULL |1961      |1979     |1                      |1                  |0                   |\n",
      "|ASN00037088|19770101|PRCP   |0    |NULL  |NULL  |a     |NULL    |        |AS        |-21.4500|143.6333 |300.     |ELVIRA            |Australia|NULL |1961      |1979     |1                      |1                  |0                   |\n",
      "|ASN00037109|20190101|PRCP   |0    |NULL  |NULL  |a     |NULL    |        |AS        |-22.4936|139.6615 |222.     |ALDERLEY STATION  |Australia|NULL |1920      |2024     |1                      |1                  |0                   |\n",
      "|ASN00037109|20140101|PRCP   |0    |NULL  |NULL  |a     |NULL    |        |AS        |-22.4936|139.6615 |222.     |ALDERLEY STATION  |Australia|NULL |1920      |2024     |1                      |1                  |0                   |\n",
      "|ASN00037109|20000101|PRCP   |0    |NULL  |NULL  |a     |NULL    |        |AS        |-22.4936|139.6615 |222.     |ALDERLEY STATION  |Australia|NULL |1920      |2024     |1                      |1                  |0                   |\n",
      "|ASN00037109|19930101|PRCP   |0    |NULL  |NULL  |a     |NULL    |        |AS        |-22.4936|139.6615 |222.     |ALDERLEY STATION  |Australia|NULL |1920      |2024     |1                      |1                  |0                   |\n",
      "|ASN00037109|19960101|PRCP   |0    |NULL  |NULL  |a     |NULL    |        |AS        |-22.4936|139.6615 |222.     |ALDERLEY STATION  |Australia|NULL |1920      |2024     |1                      |1                  |0                   |\n",
      "|ASN00037109|19970101|PRCP   |0    |NULL  |NULL  |a     |NULL    |        |AS        |-22.4936|139.6615 |222.     |ALDERLEY STATION  |Australia|NULL |1920      |2024     |1                      |1                  |0                   |\n",
      "|ASN00037109|20220101|PRCP   |30   |NULL  |NULL  |a     |NULL    |        |AS        |-22.4936|139.6615 |222.     |ALDERLEY STATION  |Australia|NULL |1920      |2024     |1                      |1                  |0                   |\n",
      "|ASN00037109|20170101|PRCP   |10   |NULL  |NULL  |a     |NULL    |        |AS        |-22.4936|139.6615 |222.     |ALDERLEY STATION  |Australia|NULL |1920      |2024     |1                      |1                  |0                   |\n",
      "+-----------+--------+-------+-----+------+------+------+--------+--------+----------+--------+---------+---------+------------------+---------+-----+----------+---------+-----------------------+-------------------+--------------------+\n",
      "only showing top 20 rows\n",
      "\n"
     ]
    },
    {
     "name": "stderr",
     "output_type": "stream",
     "text": [
      "                                                                                "
     ]
    }
   ],
   "source": [
    "# Left join a subset of daily and stations\n",
    "daily_subset = daily.join(stations_enriched, on=\"ID\", how=\"left\")\n",
    "\n",
    "daily_subset.show(20, False)"
   ]
  },
  {
   "cell_type": "code",
   "execution_count": 97,
   "id": "829260bc-0102-4da3-9bc0-1d8267192507",
   "metadata": {},
   "outputs": [
    {
     "name": "stderr",
     "output_type": "stream",
     "text": [
      "                                                                                "
     ]
    },
    {
     "name": "stdout",
     "output_type": "stream",
     "text": [
      "All stations in the subset of 'daily' are present in 'stations'.\n"
     ]
    }
   ],
   "source": [
    "# Perform a Left Anti Join to find stations in daily_df but not in stations_df\n",
    "temp = daily_subset.join(stations_enriched, daily_subset[\"ID\"] == stations_enriched[\"ID\"], \"left_anti\")\n",
    "\n",
    "# Check if there are any such stations\n",
    "if temp.count() > 0:\n",
    "    print(f\"There are {temp.count()} stations in 'daily' that are not in 'stations'.\")\n",
    "else:\n",
    "    print(\"All stations in the subset of 'daily' are present in 'stations'.\")\n"
   ]
  },
  {
   "cell_type": "code",
   "execution_count": 99,
   "id": "e8986d99-1757-42f2-a17f-da8b1820c219",
   "metadata": {},
   "outputs": [
    {
     "name": "stderr",
     "output_type": "stream",
     "text": [
      "                                                                                "
     ]
    },
    {
     "name": "stdout",
     "output_type": "stream",
     "text": [
      "+---+\n",
      "|ID |\n",
      "+---+\n",
      "+---+\n",
      "\n"
     ]
    },
    {
     "name": "stderr",
     "output_type": "stream",
     "text": [
      "[Stage 191:====================================================>(105 + 1) / 106]"
     ]
    },
    {
     "name": "stdout",
     "output_type": "stream",
     "text": [
      "All stations in 'daily' are present in 'stations'.\n"
     ]
    },
    {
     "name": "stderr",
     "output_type": "stream",
     "text": [
      "                                                                                "
     ]
    }
   ],
   "source": [
    "daily_full = spark.read.csv(daily_path, schema=schema)\n",
    "\n",
    "# Broadcast the stations to minimize data shuffling for efficient comparison\n",
    "stations_ids = stations_enriched.select(\"ID\").distinct()  # Selecting only the ID column\n",
    "\n",
    "# Get distinct station IDs from daily\n",
    "daily_ids = daily_full.select(\"ID\").distinct()\n",
    "\n",
    "# Perform set-based subtraction to find IDs in 'daily' but not in 'stations'\n",
    "missing_stations = daily_ids.subtract(stations_ids)\n",
    "\n",
    "# Show the result (stations in 'daily' that are not in 'stations')\n",
    "missing_stations.show(20, False)\n",
    "\n",
    "# Check if there are any missing stations\n",
    "if missing_stations.count() > 0:\n",
    "    print(f\"There are {missing_stations.count()} stations in 'daily' that are not in 'stations'.\")\n",
    "else:\n",
    "    print(\"All stations in 'daily' are present in 'stations'.\")\n"
   ]
  },
  {
   "cell_type": "code",
   "execution_count": 24,
   "id": "ea2318c1-9ef3-4db9-a5cb-7d028114864e",
   "metadata": {},
   "outputs": [
    {
     "name": "stderr",
     "output_type": "stream",
     "text": [
      "25/04/05 09:49:10 WARN ExecutorPodsWatchSnapshotSource: Kubernetes client has been closed.\n"
     ]
    },
    {
     "data": {
      "text/html": [
       "<p><b>Spark</b></p><p>The spark session is <b><span style=\"color:red\">stopped</span></b>, confirm that <code>twa78 (notebook)</code> is under the completed applications section in the Spark UI.</p><ul><li><a href=\"http://mathmadslinux2p.canterbury.ac.nz:8080/\" target=\"_blank\">Spark UI</a></li></ul>"
      ],
      "text/plain": [
       "<IPython.core.display.HTML object>"
      ]
     },
     "metadata": {},
     "output_type": "display_data"
    }
   ],
   "source": [
    "# Run this cell before closing the notebook or kill your spark application by hand using the link in the Spark UI\n",
    "\n",
    "stop_spark()"
   ]
  },
  {
   "cell_type": "code",
   "execution_count": null,
   "id": "9a7267d5-f0b3-49ee-a8f1-e9677c5eaf47",
   "metadata": {},
   "outputs": [],
   "source": []
  }
 ],
 "metadata": {
  "kernelspec": {
   "display_name": "Python 3 (ipykernel)",
   "language": "python",
   "name": "python3"
  },
  "language_info": {
   "codemirror_mode": {
    "name": "ipython",
    "version": 3
   },
   "file_extension": ".py",
   "mimetype": "text/x-python",
   "name": "python",
   "nbconvert_exporter": "python",
   "pygments_lexer": "ipython3",
   "version": "3.8.10"
  }
 },
 "nbformat": 4,
 "nbformat_minor": 5
}
